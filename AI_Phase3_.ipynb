{
  "nbformat": 4,
  "nbformat_minor": 0,
  "metadata": {
    "colab": {
      "provenance": []
    },
    "kernelspec": {
      "name": "python3",
      "display_name": "Python 3"
    },
    "language_info": {
      "name": "python"
    }
  },
  "cells": [
    {
      "cell_type": "markdown",
      "source": [
        "### *let's proceed with loading and preprocessing the housing dataset you provided, which contains the columns \"Avg. Area Income,\" \"Avg. Area House Age,\" \"Avg. Area Number of Rooms,\" \"Avg. Area Number of Bedrooms,\" \"Area Population,\" \"Price,\" and \"Address.\" We will focus on the data preprocessing steps:*\n",
        "\n",
        "\n",
        "## Import Libraries:\n",
        "### First, import the necessary libraries for data manipulation and analysis. You'll need pandas to load the dataset, numpy for numerical operations, and any other libraries you might use later in the project."
      ],
      "metadata": {
        "id": "RR7RHDqUoXeO"
      }
    },
    {
      "cell_type": "code",
      "source": [
        "import pandas as pd\n",
        "import numpy as np\n",
        "from sklearn.model_selection import train_test_split\n",
        "from sklearn.preprocessing import StandardScaler"
      ],
      "metadata": {
        "id": "4gRRy56Qmmxg"
      },
      "execution_count": 24,
      "outputs": []
    },
    {
      "cell_type": "markdown",
      "source": [
        "# Load the Dataset:\n",
        "## Load the housing dataset from the given file location:"
      ],
      "metadata": {
        "id": "zK8vITZCphZP"
      }
    },
    {
      "cell_type": "code",
      "source": [
        "dataset_path = \"/USA_Housing.csv\"  # Replace with the actual path to the CSV file\n",
        "df = pd.read_csv(dataset_path)\n",
        "print(df.head())"
      ],
      "metadata": {
        "colab": {
          "base_uri": "https://localhost:8080/"
        },
        "id": "8_K9i_SVm2G_",
        "outputId": "93bfd4a7-5149-4b84-d7a9-ede74b11aec8"
      },
      "execution_count": 25,
      "outputs": [
        {
          "output_type": "stream",
          "name": "stdout",
          "text": [
            "   Avg. Area Income  Avg. Area House Age  Avg. Area Number of Rooms  \\\n",
            "0      79545.458574             5.682861                   7.009188   \n",
            "1      79248.642455             6.002900                   6.730821   \n",
            "2      61287.067179             5.865890                   8.512727   \n",
            "3      63345.240046             7.188236                   5.586729   \n",
            "4      59982.197226             5.040555                   7.839388   \n",
            "\n",
            "   Avg. Area Number of Bedrooms  Area Population         Price  \\\n",
            "0                          4.09     23086.800503  1.059034e+06   \n",
            "1                          3.09     40173.072174  1.505891e+06   \n",
            "2                          5.13     36882.159400  1.058988e+06   \n",
            "3                          3.26     34310.242831  1.260617e+06   \n",
            "4                          4.23     26354.109472  6.309435e+05   \n",
            "\n",
            "                                             Address  \n",
            "0  208 Michael Ferry Apt. 674\\nLaurabury, NE 3701...  \n",
            "1  188 Johnson Views Suite 079\\nLake Kathleen, CA...  \n",
            "2  9127 Elizabeth Stravenue\\nDanieltown, WI 06482...  \n",
            "3                          USS Barnett\\nFPO AP 44820  \n",
            "4                         USNS Raymond\\nFPO AE 09386  \n"
          ]
        }
      ]
    },
    {
      "cell_type": "markdown",
      "source": [
        "3. **Data Preprocessing:**\n",
        "   Let's proceed with data preprocessing for this dataset:\n",
        "\n",
        "   - **Handling Missing Values:**\n",
        "     Check for missing values, and if there are any, decide how to handle them. In this example, we'll remove rows with missing data."
      ],
      "metadata": {
        "id": "kSwHdkbkpnHH"
      }
    },
    {
      "cell_type": "code",
      "source": [
        "df.dropna(inplace=True)  # Remove rows with missing values"
      ],
      "metadata": {
        "id": "3GSS7oWRnAhj"
      },
      "execution_count": 23,
      "outputs": []
    },
    {
      "cell_type": "markdown",
      "source": [
        "- **Encoding Categorical Variables:**\n",
        "     If the \"Address\" column contains categorical data, you can drop it since it's unlikely to provide meaningful information for price prediction.\n"
      ],
      "metadata": {
        "id": "PeOPxjQzpuKX"
      }
    },
    {
      "cell_type": "code",
      "source": [
        "df = df.drop(\"Address\", axis=1)"
      ],
      "metadata": {
        "id": "HUMTabufnEmd"
      },
      "execution_count": 12,
      "outputs": []
    },
    {
      "cell_type": "markdown",
      "source": [
        " - **Splitting the Data:**\n",
        "     Split the dataset into features (X) and the target variable (y). In this case, \"Price\" is our target variable, and the rest of the columns are features."
      ],
      "metadata": {
        "id": "0JsKtxVSrUGE"
      }
    },
    {
      "cell_type": "code",
      "source": [
        "X = df.drop(\"Price\", axis=1)\n",
        "y = df[\"Price\"]\n",
        "print(X.head())"
      ],
      "metadata": {
        "colab": {
          "base_uri": "https://localhost:8080/"
        },
        "id": "FPIJtTDtnIjb",
        "outputId": "614d2b3c-01fc-4cfe-e0a7-9dc62927130c"
      },
      "execution_count": 17,
      "outputs": [
        {
          "output_type": "stream",
          "name": "stdout",
          "text": [
            "   Avg. Area Income  Avg. Area House Age  Avg. Area Number of Rooms  \\\n",
            "0      79545.458574             5.682861                   7.009188   \n",
            "1      79248.642455             6.002900                   6.730821   \n",
            "2      61287.067179             5.865890                   8.512727   \n",
            "3      63345.240046             7.188236                   5.586729   \n",
            "4      59982.197226             5.040555                   7.839388   \n",
            "\n",
            "   Avg. Area Number of Bedrooms  Area Population  \n",
            "0                          4.09     23086.800503  \n",
            "1                          3.09     40173.072174  \n",
            "2                          5.13     36882.159400  \n",
            "3                          3.26     34310.242831  \n",
            "4                          4.23     26354.109472  \n"
          ]
        }
      ]
    },
    {
      "cell_type": "markdown",
      "source": [
        "  - **Feature Scaling:**\n",
        "     It's a good practice to scale the numerical features. We'll use StandardScaler for this.\n"
      ],
      "metadata": {
        "id": "c-GSWVPOr001"
      }
    },
    {
      "cell_type": "code",
      "source": [
        "scaler = StandardScaler()\n",
        "X_scaled = scaler.fit_transform(X)\n",
        "print(X_scaled)"
      ],
      "metadata": {
        "colab": {
          "base_uri": "https://localhost:8080/"
        },
        "id": "y98YZduTnMOs",
        "outputId": "84157132-7e97-4a03-c450-67b39b7ed497"
      },
      "execution_count": 19,
      "outputs": [
        {
          "output_type": "stream",
          "name": "stdout",
          "text": [
            "[[ 1.02865969 -0.29692705  0.02127433  0.08806222 -1.31759867]\n",
            " [ 1.00080775  0.02590164 -0.25550611 -0.72230146  0.40399945]\n",
            " [-0.68462916 -0.11230283  1.5162435   0.93084045  0.07240989]\n",
            " ...\n",
            " [-0.48723454  1.28447022 -2.17026949 -1.50025059 -0.29193658]\n",
            " [-0.05459152 -0.44669439  0.14154061  1.18205319  0.65111608]\n",
            " [-0.28831272  0.01521477 -0.19434166  0.07185495  1.04162464]]\n"
          ]
        }
      ]
    },
    {
      "cell_type": "markdown",
      "source": [
        "- **Splitting the Data into Training and Testing Sets:**\n",
        "     Split the data into training and testing sets for model evaluation.\n"
      ],
      "metadata": {
        "id": "VJ9fvADAr6NJ"
      }
    },
    {
      "cell_type": "code",
      "source": [
        "X_train, X_test, y_train, y_test = train_test_split(X_scaled, y, test_size=0.2, random_state=42)"
      ],
      "metadata": {
        "id": "sO1QnTEonPOP"
      },
      "execution_count": 15,
      "outputs": []
    },
    {
      "cell_type": "markdown",
      "source": [
        "To print the `X_train`, `X_test`, `y_train`, and `y_test` after performing the train-test split using `train_test_split` from scikit-learn, you can add print statements as follows:\n"
      ],
      "metadata": {
        "id": "Xk0M4-EbsJ34"
      }
    },
    {
      "cell_type": "code",
      "source": [
        "from sklearn.model_selection import train_test_split\n",
        "\n",
        "# Split the data into training and testing sets\n",
        "X_train, X_test, y_train, y_test = train_test_split(X_scaled, y, test_size=0.2, random_state=42)\n",
        "\n",
        "# Print the shapes of the resulting sets\n",
        "print(\"X_train shape:\", X_train.shape)\n",
        "print(\"X_test shape:\", X_test.shape)\n",
        "print(\"y_train shape:\", y_train.shape)\n",
        "print(\"y_test shape:\", y_test.shape)\n"
      ],
      "metadata": {
        "colab": {
          "base_uri": "https://localhost:8080/"
        },
        "id": "VaETt1GBnrfa",
        "outputId": "63f64eec-0352-4615-be3f-e622245bc6cf"
      },
      "execution_count": 20,
      "outputs": [
        {
          "output_type": "stream",
          "name": "stdout",
          "text": [
            "X_train shape: (4000, 5)\n",
            "X_test shape: (1000, 5)\n",
            "y_train shape: (4000,)\n",
            "y_test shape: (1000,)\n"
          ]
        }
      ]
    }
  ]
}