{
  "nbformat": 4,
  "nbformat_minor": 0,
  "metadata": {
    "colab": {
      "provenance": []
    },
    "kernelspec": {
      "name": "python3",
      "display_name": "Python 3"
    },
    "language_info": {
      "name": "python"
    }
  },
  "cells": [
    {
      "cell_type": "markdown",
      "source": [
        "# House Price Prediction Model Development\n",
        "\n",
        "## Part 2: Feature Selection, Model Training, and Evaluation\n",
        "\n",
        "In this phase of the project, we continue building the house price prediction model. This phase consists of three crucial steps: Feature Selection, Model Training, and Evaluation. Below is a detailed procedure for each of these steps:\n",
        "\n",
        "### 1. Feature Selection\n",
        "\n",
        "Feature selection is the process of choosing the most relevant features or attributes that have the most significant impact on predicting house prices. Effective feature selection can improve model accuracy, reduce overfitting, and enhance model interpretability.\n",
        "\n",
        "**Procedure for Feature Selection:**\n",
        "\n",
        "- **Data Inspection:** Examine the dataset containing features and the target variable (house prices) to understand the available data.\n",
        "\n",
        "- **Domain Knowledge:** Consider domain knowledge and industry expertise to identify features that are likely to influence house prices. For example, factors like location, square footage, number of bedrooms, and bathrooms can be critical.\n",
        "\n",
        "- **Statistical Analysis:** Conduct statistical analysis, such as correlation analysis, to measure the relationships between features and the target variable. Features with strong correlations may be considered.\n",
        "\n",
        "- **Feature Importance:** Utilize techniques like feature importance from tree-based models (e.g., Random Forest) to identify the features that contribute the most to prediction.\n",
        "\n",
        "- **Dimensionality Reduction:** Explore dimensionality reduction methods, like Principal Component Analysis (PCA), to reduce the number of features while preserving as much information as possible.\n",
        "\n",
        "### 2. Model Training\n",
        "\n",
        "Model training involves selecting a regression algorithm and training it on the preprocessed dataset. The choice of the regression algorithm depends on the dataset's characteristics and the model's performance.\n",
        "\n",
        "**Procedure for Model Training:**\n",
        "\n",
        "- **Regression Algorithm Selection:** Choose a suitable regression algorithm for the task. Common choices include Linear Regression, Gradient Boosting, Random Forest Regression, XGBoost Regression, and Support Vector Regression.\n",
        "\n",
        "- **Data Splitting:** Divide the dataset into training and testing sets (e.g., 80% for training, 20% for testing) to evaluate the model's generalization performance.\n",
        "\n",
        "- **Hyperparameter Tuning:** Optimize hyperparameters of the selected regression model. Techniques like grid search or random search can help in finding the best hyperparameters.\n",
        "\n",
        "- **Model Fitting:** Train the selected regression model on the training data, adjusting it to minimize prediction errors. This step involves optimizing model parameters based on the training data.\n",
        "\n",
        "### 3. Evaluation\n",
        "\n",
        "Evaluation is the final step in assessing the model's performance. It provides insights into how well the model predicts house prices and helps in decision-making.\n",
        "\n",
        "**Procedure for Model Evaluation:**\n",
        "\n",
        "- **Metrics:** Calculate relevant regression metrics, including Mean Absolute Error (MAE), Root Mean Squared Error (RMSE), and R-squared (R²). These metrics quantify the model's accuracy, prediction errors, and the proportion of the target variable's variance explained by the model.\n",
        "\n",
        "- **Visualization:** Visualize the model's predictions vs. actual prices through scatter plots, regression plots, or other graphical representations. Visualization can help understand the model's strengths and weaknesses.\n",
        "\n",
        "- **Cross-Validation:** Consider using k-fold cross-validation to assess the model's stability and robustness. This technique helps ensure that the model generalizes well to unseen data.\n",
        "\n",
        "- **Interpretability:** Evaluate how interpretable the model is. In some cases, model interpretability is crucial for making informed decisions.\n",
        "\n",
        "By following this procedure, we aim to develop a robust house price prediction model that can be used to make informed decisions in the real estate market. It is essential to document and track the results at each stage to monitor the model's progress and performance."
      ],
      "metadata": {
        "id": "zldRs1kEeBMq"
      }
    },
    {
      "cell_type": "code",
      "execution_count": null,
      "metadata": {
        "colab": {
          "base_uri": "https://localhost:8080/"
        },
        "id": "Pqy1KXelXMRp",
        "outputId": "4ff72171-501c-435b-cc7f-0522421bbb18"
      },
      "outputs": [
        {
          "output_type": "stream",
          "name": "stdout",
          "text": [
            "   Avg. Area Income  Avg. Area House Age  Avg. Area Number of Rooms  \\\n",
            "0      79545.458574             5.682861                   7.009188   \n",
            "1      79248.642455             6.002900                   6.730821   \n",
            "2      61287.067179             5.865890                   8.512727   \n",
            "3      63345.240046             7.188236                   5.586729   \n",
            "4      59982.197226             5.040555                   7.839388   \n",
            "\n",
            "   Avg. Area Number of Bedrooms  Area Population         Price  \\\n",
            "0                          4.09     23086.800503  1.059034e+06   \n",
            "1                          3.09     40173.072174  1.505891e+06   \n",
            "2                          5.13     36882.159400  1.058988e+06   \n",
            "3                          3.26     34310.242831  1.260617e+06   \n",
            "4                          4.23     26354.109472  6.309435e+05   \n",
            "\n",
            "                                             Address  \n",
            "0  208 Michael Ferry Apt. 674\\nLaurabury, NE 3701...  \n",
            "1  188 Johnson Views Suite 079\\nLake Kathleen, CA...  \n",
            "2  9127 Elizabeth Stravenue\\nDanieltown, WI 06482...  \n",
            "3                          USS Barnett\\nFPO AP 44820  \n",
            "4                         USNS Raymond\\nFPO AE 09386  \n",
            "Model Evaluation:\n",
            "MAE (Mean Absolute Error): 80879.0972348982\n",
            "RMSE (Root Mean Squared Error): 100444.06055558745\n",
            "R-squared (R²): 0.9179971706834289\n"
          ]
        }
      ],
      "source": [
        "import pandas as pd\n",
        "from sklearn.model_selection import train_test_split\n",
        "from sklearn.linear_model import LinearRegression\n",
        "from sklearn.metrics import mean_absolute_error, mean_squared_error, r2_score\n",
        "\n",
        "# Load the dataset\n",
        "data = pd.read_csv(\"/content/USA_Housing.csv\")\n",
        "\n",
        "# Display the first few rows of the dataset\n",
        "print(data.head())\n",
        "\n",
        "# Data Preprocessing\n",
        "# Extract features and target variable\n",
        "X = data[[\"Avg. Area Income\", \"Avg. Area House Age\", \"Avg. Area Number of Rooms\", \"Avg. Area Number of Bedrooms\", \"Area Population\"]]\n",
        "y = data[\"Price\"]\n",
        "\n",
        "# Split the data into training and testing sets\n",
        "X_train, X_test, y_train, y_test = train_test_split(X, y, test_size=0.2, random_state=42)\n",
        "\n",
        "# Feature Selection\n",
        "# (You can further customize feature selection methods based on your needs)\n",
        "\n",
        "# Model Training\n",
        "lr_model = LinearRegression()\n",
        "lr_model.fit(X_train, y_train)\n",
        "\n",
        "# Predict using Linear Regression\n",
        "lr_predictions = lr_model.predict(X_test)\n",
        "\n",
        "# Evaluation\n",
        "print(\"Model Evaluation:\")\n",
        "print(\"MAE (Mean Absolute Error):\", mean_absolute_error(y_test, lr_predictions))\n",
        "print(\"RMSE (Root Mean Squared Error):\", mean_squared_error(y_test, lr_predictions, squared=False))\n",
        "print(\"R-squared (R²):\", r2_score(y_test, lr_predictions))\n"
      ]
    },
    {
      "cell_type": "code",
      "source": [
        "import pandas as pd\n",
        "from sklearn.linear_model import LinearRegression\n",
        "\n",
        "# Load the dataset\n",
        "data = pd.read_csv(\"/content/USA_Housing.csv\")\n",
        "\n",
        "# Data Preprocessing\n",
        "# Extract features and target variable\n",
        "X = data[[\"Avg. Area Income\", \"Avg. Area House Age\", \"Avg. Area Number of Rooms\", \"Avg. Area Number of Bedrooms\", \"Area Population\"]]\n",
        "y = data[\"Price\"]\n",
        "\n",
        "# Train a Linear Regression model\n",
        "lr_model = LinearRegression()\n",
        "lr_model.fit(X, y)\n",
        "\n",
        "# Input from the user\n",
        "print(\"Please enter the following features to predict the house price:\")\n",
        "avg_income = float(input(\"Average Area Income: \"))\n",
        "house_age = float(input(\"Average Area House Age: \"))\n",
        "num_rooms = float(input(\"Average Area Number of Rooms: \"))\n",
        "num_bedrooms = float(input(\"Average Area Number of Bedrooms: \"))\n",
        "population = float(input(\"Area Population: \"))\n",
        "\n",
        "# Create a feature vector from user input\n",
        "user_input = [[avg_income, house_age, num_rooms, num_bedrooms, population]]\n",
        "\n",
        "# Predict the house price\n",
        "predicted_price = lr_model.predict(user_input)\n",
        "\n",
        "# Display the predicted price\n",
        "print(f\"Predicted House Price: ${predicted_price[0]:,.2f}\")\n"
      ],
      "metadata": {
        "colab": {
          "base_uri": "https://localhost:8080/"
        },
        "id": "v1SeQ-3tX-97",
        "outputId": "87f5958d-4a01-4e05-d371-4ba3f36751d3"
      },
      "execution_count": null,
      "outputs": [
        {
          "output_type": "stream",
          "name": "stdout",
          "text": [
            "Please enter the following features to predict the house price:\n",
            "Average Area Income: 79545.45857431678\n",
            "Average Area House Age: 5.682861321615587\n",
            "Average Area Number of Rooms: 7.009188142792237\n",
            "Average Area Number of Bedrooms: 4.09\n",
            "Area Population: 23086.800502686456\n",
            "Predicted House Price: $1,223,847.04\n"
          ]
        },
        {
          "output_type": "stream",
          "name": "stderr",
          "text": [
            "/usr/local/lib/python3.10/dist-packages/sklearn/base.py:439: UserWarning: X does not have valid feature names, but LinearRegression was fitted with feature names\n",
            "  warnings.warn(\n"
          ]
        }
      ]
    }
  ]
}