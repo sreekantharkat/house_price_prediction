{
  "nbformat": 4,
  "nbformat_minor": 0,
  "metadata": {
    "colab": {
      "provenance": []
    },
    "kernelspec": {
      "name": "python3",
      "display_name": "Python 3"
    },
    "language_info": {
      "name": "python"
    },
    "accelerator": "TPU"
  },
  "cells": [
    {
      "cell_type": "markdown",
      "source": [
        "# House Price Prediction Project Documentation\n",
        "\n",
        "## Problem Statement\n",
        "\n",
        "The problem addressed in this project is to predict house prices using machine learning techniques. The objective is to develop a model that accurately predicts the prices of houses based on a set of features such as location, square footage, number of bedrooms and bathrooms, and other relevant factors. The project involves several phases, including data preprocessing, feature engineering, model selection, training, and evaluation.\n",
        "\n",
        "## Design Thinking Process\n",
        "\n",
        "1. **Data Source:** We selected a dataset containing information about houses, including features like location, square footage, bedrooms, bathrooms, and price.\n",
        "\n",
        "2. **Data Preprocessing:** Data was cleaned, missing values handled, and categorical features were converted into numerical representations.\n",
        "\n",
        "3. **Feature Selection:** The most relevant features for predicting house prices were identified to improve model accuracy.\n",
        "\n",
        "4. **Model Selection:** We chose the XGBoost regression algorithm for its robustness and predictive power.\n",
        "\n",
        "5. **Model Training:** The selected model was trained using the preprocessed data.\n",
        "\n",
        "6. **Evaluation:** Model performance was assessed using metrics like Mean Absolute Error (MAE), Root Mean Squared Error (RMSE), and R-squared.\n",
        "\n",
        "## Dataset Description\n",
        "\n",
        "The dataset used for this project is named \"USA_Housing.csv.\" It contains the following columns:\n",
        "\n",
        "- Avg. Area Income: Average income of residents in the area.\n",
        "- Avg. Area House Age: Average age of houses in the area.\n",
        "- Avg. Area Number of Rooms: Average number of rooms in houses in the area.\n",
        "- Avg. Area Number of Bedrooms: Average number of bedrooms in houses in the area.\n",
        "- Area Population: Population of the area.\n",
        "- Price: Price of the house.\n",
        "- Address: Address of the house.\n",
        "\n",
        "## Data Preprocessing\n",
        "\n",
        "1. **Data Cleaning:** The dataset was checked for missing values, and any missing data was either removed or imputed.\n",
        "\n",
        "2. **Feature Engineering:** New features, such as price per square foot, were created to enhance the dataset's information.\n",
        "\n",
        "3. **Encoding Categorical Variables:** Categorical features, such as address, were converted into numerical representations.\n",
        "\n",
        "4. **Scaling Numerical Features:** Numerical features were standardized using StandardScaler to ensure consistent scales.\n",
        "\n",
        "## Model Training\n",
        "\n",
        "The XGBoost regression algorithm was chosen for model training. XGBoost is an ensemble learning method known for its speed, performance, and predictive power. It was trained with the preprocessed dataset, and hyperparameter tuning was performed to optimize its performance.\n",
        "\n",
        "## Evaluation Metrics\n",
        "\n",
        "The choice of regression algorithm, XGBoost, was complemented by the following evaluation metrics:\n",
        "\n",
        "- **Mean Absolute Error (MAE):** Measures the average absolute difference between the predicted and actual prices.\n",
        "- **Root Mean Squared Error (RMSE):** Measures the square root of the average squared differences between predicted and actual prices.\n",
        "- **R-squared (R²):** Measures the proportion of the variance in the dependent variable (house prices) that is predictable from the independent variables.\n",
        "\n",
        "These metrics provide insights into how well the model predicts house prices and its ability to capture variance in the data.\n",
        "\n",
        "\n",
        "## Submission\n",
        "\n",
        "The project is ready for submission, and the code provided in previous responses can be used for running the entire project, including making predictions based on user input."
      ],
      "metadata": {
        "id": "ljHlnVe_Gjdg"
      }
    },
    {
      "cell_type": "markdown",
      "source": [
        "**Data Loading and Initial Data Exploration**"
      ],
      "metadata": {
        "id": "sSA5A68YNZML"
      }
    },
    {
      "cell_type": "code",
      "source": [
        "import pandas as pd\n",
        "\n",
        "# Load the dataset\n",
        "data = pd.read_csv(\"/content/USA_Housing.csv\") #provide the dataset path clearly\n",
        "\n",
        "# Display the first few rows of the dataset\n",
        "print(data.head())"
      ],
      "metadata": {
        "colab": {
          "base_uri": "https://localhost:8080/"
        },
        "id": "5Pi1syEANWjn",
        "outputId": "765ae922-1852-408b-87e0-c3aee3a72fd1"
      },
      "execution_count": null,
      "outputs": [
        {
          "output_type": "stream",
          "name": "stdout",
          "text": [
            "   Avg. Area Income  Avg. Area House Age  Avg. Area Number of Rooms  \\\n",
            "0      79545.458574             5.682861                   7.009188   \n",
            "1      79248.642455             6.002900                   6.730821   \n",
            "2      61287.067179             5.865890                   8.512727   \n",
            "3      63345.240046             7.188236                   5.586729   \n",
            "4      59982.197226             5.040555                   7.839388   \n",
            "\n",
            "   Avg. Area Number of Bedrooms  Area Population         Price  \\\n",
            "0                          4.09     23086.800503  1.059034e+06   \n",
            "1                          3.09     40173.072174  1.505891e+06   \n",
            "2                          5.13     36882.159400  1.058988e+06   \n",
            "3                          3.26     34310.242831  1.260617e+06   \n",
            "4                          4.23     26354.109472  6.309435e+05   \n",
            "\n",
            "                                             Address  \n",
            "0  208 Michael Ferry Apt. 674\\nLaurabury, NE 3701...  \n",
            "1  188 Johnson Views Suite 079\\nLake Kathleen, CA...  \n",
            "2  9127 Elizabeth Stravenue\\nDanieltown, WI 06482...  \n",
            "3                          USS Barnett\\nFPO AP 44820  \n",
            "4                         USNS Raymond\\nFPO AE 09386  \n"
          ]
        }
      ]
    },
    {
      "cell_type": "markdown",
      "source": [
        "**Data Preprocessing**"
      ],
      "metadata": {
        "id": "IZGhWOiqNSF-"
      }
    },
    {
      "cell_type": "code",
      "source": [
        "from sklearn.model_selection import train_test_split\n",
        "from sklearn.preprocessing import StandardScaler\n",
        "\n",
        "# Extract features and target variable\n",
        "X = data[[\"Avg. Area Income\", \"Avg. Area House Age\", \"Avg. Area Number of Rooms\", \"Avg. Area Number of Bedrooms\", \"Area Population\"]]\n",
        "y = data[\"Price\"]\n",
        "\n",
        "# Split the data into training and testing sets\n",
        "X_train, X_test, y_train, y_test = train_test_split(X, y, test_size=0.2, random_state=42)\n",
        "\n",
        "# Standardize features (optional, but can be helpful for some regression models)\n",
        "scaler = StandardScaler()\n",
        "X_train = scaler.fit_transform(X_train)\n",
        "X_test = scaler.transform(X_test)"
      ],
      "metadata": {
        "id": "DeKAeYxbNOUV"
      },
      "execution_count": null,
      "outputs": []
    },
    {
      "cell_type": "markdown",
      "source": [
        "**Model Training (XGBoost)**"
      ],
      "metadata": {
        "id": "O0hLz9EyNJCC"
      }
    },
    {
      "cell_type": "code",
      "source": [
        "import xgboost as xgb\n",
        "\n",
        "# XGBoost Regression\n",
        "xgb_model = xgb.XGBRegressor(objective=\"reg:squarederror\", n_estimators=100, random_state=42)\n",
        "xgb_model.fit(X_train, y_train)"
      ],
      "metadata": {
        "colab": {
          "base_uri": "https://localhost:8080/",
          "height": 248
        },
        "id": "slTAADkMNCiq",
        "outputId": "0cc8976c-7363-49a1-999f-259338a9a7c5"
      },
      "execution_count": null,
      "outputs": [
        {
          "output_type": "execute_result",
          "data": {
            "text/plain": [
              "XGBRegressor(base_score=None, booster=None, callbacks=None,\n",
              "             colsample_bylevel=None, colsample_bynode=None,\n",
              "             colsample_bytree=None, device=None, early_stopping_rounds=None,\n",
              "             enable_categorical=False, eval_metric=None, feature_types=None,\n",
              "             gamma=None, grow_policy=None, importance_type=None,\n",
              "             interaction_constraints=None, learning_rate=None, max_bin=None,\n",
              "             max_cat_threshold=None, max_cat_to_onehot=None,\n",
              "             max_delta_step=None, max_depth=None, max_leaves=None,\n",
              "             min_child_weight=None, missing=nan, monotone_constraints=None,\n",
              "             multi_strategy=None, n_estimators=100, n_jobs=None,\n",
              "             num_parallel_tree=None, random_state=42, ...)"
            ],
            "text/html": [
              "<style>#sk-container-id-3 {color: black;background-color: white;}#sk-container-id-3 pre{padding: 0;}#sk-container-id-3 div.sk-toggleable {background-color: white;}#sk-container-id-3 label.sk-toggleable__label {cursor: pointer;display: block;width: 100%;margin-bottom: 0;padding: 0.3em;box-sizing: border-box;text-align: center;}#sk-container-id-3 label.sk-toggleable__label-arrow:before {content: \"▸\";float: left;margin-right: 0.25em;color: #696969;}#sk-container-id-3 label.sk-toggleable__label-arrow:hover:before {color: black;}#sk-container-id-3 div.sk-estimator:hover label.sk-toggleable__label-arrow:before {color: black;}#sk-container-id-3 div.sk-toggleable__content {max-height: 0;max-width: 0;overflow: hidden;text-align: left;background-color: #f0f8ff;}#sk-container-id-3 div.sk-toggleable__content pre {margin: 0.2em;color: black;border-radius: 0.25em;background-color: #f0f8ff;}#sk-container-id-3 input.sk-toggleable__control:checked~div.sk-toggleable__content {max-height: 200px;max-width: 100%;overflow: auto;}#sk-container-id-3 input.sk-toggleable__control:checked~label.sk-toggleable__label-arrow:before {content: \"▾\";}#sk-container-id-3 div.sk-estimator input.sk-toggleable__control:checked~label.sk-toggleable__label {background-color: #d4ebff;}#sk-container-id-3 div.sk-label input.sk-toggleable__control:checked~label.sk-toggleable__label {background-color: #d4ebff;}#sk-container-id-3 input.sk-hidden--visually {border: 0;clip: rect(1px 1px 1px 1px);clip: rect(1px, 1px, 1px, 1px);height: 1px;margin: -1px;overflow: hidden;padding: 0;position: absolute;width: 1px;}#sk-container-id-3 div.sk-estimator {font-family: monospace;background-color: #f0f8ff;border: 1px dotted black;border-radius: 0.25em;box-sizing: border-box;margin-bottom: 0.5em;}#sk-container-id-3 div.sk-estimator:hover {background-color: #d4ebff;}#sk-container-id-3 div.sk-parallel-item::after {content: \"\";width: 100%;border-bottom: 1px solid gray;flex-grow: 1;}#sk-container-id-3 div.sk-label:hover label.sk-toggleable__label {background-color: #d4ebff;}#sk-container-id-3 div.sk-serial::before {content: \"\";position: absolute;border-left: 1px solid gray;box-sizing: border-box;top: 0;bottom: 0;left: 50%;z-index: 0;}#sk-container-id-3 div.sk-serial {display: flex;flex-direction: column;align-items: center;background-color: white;padding-right: 0.2em;padding-left: 0.2em;position: relative;}#sk-container-id-3 div.sk-item {position: relative;z-index: 1;}#sk-container-id-3 div.sk-parallel {display: flex;align-items: stretch;justify-content: center;background-color: white;position: relative;}#sk-container-id-3 div.sk-item::before, #sk-container-id-3 div.sk-parallel-item::before {content: \"\";position: absolute;border-left: 1px solid gray;box-sizing: border-box;top: 0;bottom: 0;left: 50%;z-index: -1;}#sk-container-id-3 div.sk-parallel-item {display: flex;flex-direction: column;z-index: 1;position: relative;background-color: white;}#sk-container-id-3 div.sk-parallel-item:first-child::after {align-self: flex-end;width: 50%;}#sk-container-id-3 div.sk-parallel-item:last-child::after {align-self: flex-start;width: 50%;}#sk-container-id-3 div.sk-parallel-item:only-child::after {width: 0;}#sk-container-id-3 div.sk-dashed-wrapped {border: 1px dashed gray;margin: 0 0.4em 0.5em 0.4em;box-sizing: border-box;padding-bottom: 0.4em;background-color: white;}#sk-container-id-3 div.sk-label label {font-family: monospace;font-weight: bold;display: inline-block;line-height: 1.2em;}#sk-container-id-3 div.sk-label-container {text-align: center;}#sk-container-id-3 div.sk-container {/* jupyter's `normalize.less` sets `[hidden] { display: none; }` but bootstrap.min.css set `[hidden] { display: none !important; }` so we also need the `!important` here to be able to override the default hidden behavior on the sphinx rendered scikit-learn.org. See: https://github.com/scikit-learn/scikit-learn/issues/21755 */display: inline-block !important;position: relative;}#sk-container-id-3 div.sk-text-repr-fallback {display: none;}</style><div id=\"sk-container-id-3\" class=\"sk-top-container\"><div class=\"sk-text-repr-fallback\"><pre>XGBRegressor(base_score=None, booster=None, callbacks=None,\n",
              "             colsample_bylevel=None, colsample_bynode=None,\n",
              "             colsample_bytree=None, device=None, early_stopping_rounds=None,\n",
              "             enable_categorical=False, eval_metric=None, feature_types=None,\n",
              "             gamma=None, grow_policy=None, importance_type=None,\n",
              "             interaction_constraints=None, learning_rate=None, max_bin=None,\n",
              "             max_cat_threshold=None, max_cat_to_onehot=None,\n",
              "             max_delta_step=None, max_depth=None, max_leaves=None,\n",
              "             min_child_weight=None, missing=nan, monotone_constraints=None,\n",
              "             multi_strategy=None, n_estimators=100, n_jobs=None,\n",
              "             num_parallel_tree=None, random_state=42, ...)</pre><b>In a Jupyter environment, please rerun this cell to show the HTML representation or trust the notebook. <br />On GitHub, the HTML representation is unable to render, please try loading this page with nbviewer.org.</b></div><div class=\"sk-container\" hidden><div class=\"sk-item\"><div class=\"sk-estimator sk-toggleable\"><input class=\"sk-toggleable__control sk-hidden--visually\" id=\"sk-estimator-id-3\" type=\"checkbox\" checked><label for=\"sk-estimator-id-3\" class=\"sk-toggleable__label sk-toggleable__label-arrow\">XGBRegressor</label><div class=\"sk-toggleable__content\"><pre>XGBRegressor(base_score=None, booster=None, callbacks=None,\n",
              "             colsample_bylevel=None, colsample_bynode=None,\n",
              "             colsample_bytree=None, device=None, early_stopping_rounds=None,\n",
              "             enable_categorical=False, eval_metric=None, feature_types=None,\n",
              "             gamma=None, grow_policy=None, importance_type=None,\n",
              "             interaction_constraints=None, learning_rate=None, max_bin=None,\n",
              "             max_cat_threshold=None, max_cat_to_onehot=None,\n",
              "             max_delta_step=None, max_depth=None, max_leaves=None,\n",
              "             min_child_weight=None, missing=nan, monotone_constraints=None,\n",
              "             multi_strategy=None, n_estimators=100, n_jobs=None,\n",
              "             num_parallel_tree=None, random_state=42, ...)</pre></div></div></div></div></div>"
            ]
          },
          "metadata": {},
          "execution_count": 15
        }
      ]
    },
    {
      "cell_type": "markdown",
      "source": [
        "**Model Evaluation**"
      ],
      "metadata": {
        "id": "fyH7e5SqM-RG"
      }
    },
    {
      "cell_type": "code",
      "source": [
        "from sklearn.metrics import mean_absolute_error, mean_squared_error, r2_score\n",
        "\n",
        "\n",
        "# Evaluate XGBoost model\n",
        "xgb_predictions = xgb_model.predict(X_test)\n",
        "print(\"XGBoost Model Evaluation:\")\n",
        "print(\"MAE:\", mean_absolute_error(y_test, xgb_predictions))\n",
        "print(\"RMSE:\", np.sqrt(mean_squared_error(y_test, xgb_predictions)))\n",
        "print(\"R-squared (R²):\", r2_score(y_test, xgb_predictions))"
      ],
      "metadata": {
        "colab": {
          "base_uri": "https://localhost:8080/"
        },
        "id": "KgZVC33NM1cV",
        "outputId": "36aab2f6-a895-4564-bc88-81d98c213587"
      },
      "execution_count": null,
      "outputs": [
        {
          "output_type": "stream",
          "name": "stdout",
          "text": [
            "XGBoost Model Evaluation:\n",
            "MAE: 96076.29387955746\n",
            "RMSE: 122117.77295258203\n",
            "R-squared (R²): 0.8787901076275872\n"
          ]
        }
      ]
    },
    {
      "cell_type": "markdown",
      "source": [
        "**User Input for Prediction**"
      ],
      "metadata": {
        "id": "k_Be0DV6MYDF"
      }
    },
    {
      "cell_type": "code",
      "source": [
        "# User Input for Prediction\n",
        "print(\"\\nPredict House Price for New Data:\")\n",
        "avg_area_income = float(input(\"Average Area Income: \"))\n",
        "avg_area_house_age = float(input(\"Average Area House Age: \"))\n",
        "avg_area_num_rooms = float(input(\"Average Area Number of Rooms: \"))\n",
        "avg_area_num_bedrooms = float(input(\"Average Area Number of Bedrooms: \"))\n",
        "area_population = float(input(\"Area Population: \"))\n",
        "\n",
        "# Prepare the user input data\n",
        "user_input = np.array([[avg_area_income, avg_area_house_age, avg_area_num_rooms, avg_area_num_bedrooms, area_population]])\n",
        "user_input = scaler.transform(user_input)  #Standardize the input data\n",
        "\n",
        "# Make predictions for user input\n",
        "predicted_price = xgb_model.predict(user_input)\n",
        "print(f\"Predicted House Price: ${predicted_price[0]:,.2f}\")"
      ],
      "metadata": {
        "colab": {
          "base_uri": "https://localhost:8080/"
        },
        "id": "e7LjBx0_MNf5",
        "outputId": "d01f22e0-3940-44e0-abdb-0dd6ef153276"
      },
      "execution_count": null,
      "outputs": [
        {
          "output_type": "stream",
          "name": "stdout",
          "text": [
            "\n",
            "Predict House Price for New Data:\n",
            "Average Area Income: 79545.45857431678\n",
            "Average Area House Age: 5.682861321615587\n",
            "Average Area Number of Rooms: 7.009188142792237\n",
            "Average Area Number of Bedrooms: 4.09\n",
            "Area Population: 23086.800502686456\n",
            "Predicted House Price: $1,163,972.75\n"
          ]
        },
        {
          "output_type": "stream",
          "name": "stderr",
          "text": [
            "/usr/local/lib/python3.10/dist-packages/sklearn/base.py:439: UserWarning: X does not have valid feature names, but StandardScaler was fitted with feature names\n",
            "  warnings.warn(\n"
          ]
        }
      ]
    },
    {
      "cell_type": "markdown",
      "source": [
        "These are the code snippets corresponding to the steps outlined in the documentation. You can use these code segments together to run the complete house price prediction project."
      ],
      "metadata": {
        "id": "JVc220aHMpsp"
      }
    },
    {
      "cell_type": "markdown",
      "source": [
        "## Conclusion\n",
        "\n",
        "This project successfully addressed the problem of house price prediction, with a focus on data preprocessing, model selection, and evaluation. The chosen XGBoost regression model demonstrated its predictive power through the selected evaluation metrics. The documentation presented outlines the problem statement, design thinking process, dataset description, data preprocessing steps, model training process, and the rationale behind the choice of regression algorithm and evaluation metrics."
      ],
      "metadata": {
        "id": "Yt3RmZBQNxEk"
      }
    }
  ]
}